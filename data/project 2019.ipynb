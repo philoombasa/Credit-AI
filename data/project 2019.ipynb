{
 "cells": [
  {
   "cell_type": "code",
   "execution_count": 2,
   "metadata": {},
   "outputs": [],
   "source": [
    "import pandas as pd\n",
    "import numpy as np\n",
    "import matplotlib.pyplot as plt\n",
    "import seaborn as sns\n",
    "from sklearn.model_selection import train_test_split\n",
    "import pickle\n",
    "from sklearn.utils import resample\n",
    "from sklearn.metrics import accuracy_score,classification_report\n",
    "from xgboost import XGBClassifier\n",
    "from sklearn.tree import DecisionTreeClassifier\n",
    "from sklearn.feature_selection import chi2\n",
    "from sklearn.feature_selection import SelectKBest"
   ]
  },
  {
   "cell_type": "code",
   "execution_count": 3,
   "metadata": {},
   "outputs": [],
   "source": [
    "loans_df=pd.read_csv(\"loans.csv\")"
   ]
  },
  {
   "cell_type": "code",
   "execution_count": 4,
   "metadata": {},
   "outputs": [
    {
     "data": {
      "text/html": [
       "<div>\n",
       "<style scoped>\n",
       "    .dataframe tbody tr th:only-of-type {\n",
       "        vertical-align: middle;\n",
       "    }\n",
       "\n",
       "    .dataframe tbody tr th {\n",
       "        vertical-align: top;\n",
       "    }\n",
       "\n",
       "    .dataframe thead th {\n",
       "        text-align: right;\n",
       "    }\n",
       "</style>\n",
       "<table border=\"1\" class=\"dataframe\">\n",
       "  <thead>\n",
       "    <tr style=\"text-align: right;\">\n",
       "      <th></th>\n",
       "      <th>Customer_WID</th>\n",
       "      <th>DisbursementDate</th>\n",
       "      <th>Age</th>\n",
       "      <th>CustomerType</th>\n",
       "      <th>SOR</th>\n",
       "      <th>MonthsSinceOpen</th>\n",
       "      <th>MonthsSinceActive</th>\n",
       "      <th>FinancialMeasure1</th>\n",
       "      <th>FinancialMeasure2</th>\n",
       "      <th>FinancialMeasure3</th>\n",
       "      <th>FinancialMeasure4</th>\n",
       "      <th>CRBScore</th>\n",
       "      <th>Amount</th>\n",
       "      <th>Default</th>\n",
       "    </tr>\n",
       "  </thead>\n",
       "  <tbody>\n",
       "    <tr>\n",
       "      <th>0</th>\n",
       "      <td>380415</td>\n",
       "      <td>2017-10-13</td>\n",
       "      <td>27.0</td>\n",
       "      <td>1.0</td>\n",
       "      <td>3.0</td>\n",
       "      <td>53.0</td>\n",
       "      <td>0.0</td>\n",
       "      <td>0.0</td>\n",
       "      <td>25.85</td>\n",
       "      <td>7308.66</td>\n",
       "      <td>8885.0</td>\n",
       "      <td>547.0</td>\n",
       "      <td>1000.0</td>\n",
       "      <td>0</td>\n",
       "    </tr>\n",
       "    <tr>\n",
       "      <th>1</th>\n",
       "      <td>153249</td>\n",
       "      <td>2017-09-06</td>\n",
       "      <td>54.0</td>\n",
       "      <td>1.0</td>\n",
       "      <td>3.0</td>\n",
       "      <td>142.0</td>\n",
       "      <td>0.0</td>\n",
       "      <td>0.0</td>\n",
       "      <td>12.05</td>\n",
       "      <td>6268.00</td>\n",
       "      <td>3807.0</td>\n",
       "      <td>506.0</td>\n",
       "      <td>2050.0</td>\n",
       "      <td>0</td>\n",
       "    </tr>\n",
       "    <tr>\n",
       "      <th>2</th>\n",
       "      <td>82776</td>\n",
       "      <td>2017-09-25</td>\n",
       "      <td>44.0</td>\n",
       "      <td>2.0</td>\n",
       "      <td>5.0</td>\n",
       "      <td>70.0</td>\n",
       "      <td>0.0</td>\n",
       "      <td>0.0</td>\n",
       "      <td>369.04</td>\n",
       "      <td>15475.66</td>\n",
       "      <td>13883.0</td>\n",
       "      <td>554.0</td>\n",
       "      <td>500.0</td>\n",
       "      <td>0</td>\n",
       "    </tr>\n",
       "    <tr>\n",
       "      <th>3</th>\n",
       "      <td>190996</td>\n",
       "      <td>2017-06-23</td>\n",
       "      <td>30.0</td>\n",
       "      <td>1.0</td>\n",
       "      <td>5.0</td>\n",
       "      <td>93.0</td>\n",
       "      <td>0.0</td>\n",
       "      <td>0.0</td>\n",
       "      <td>403.01</td>\n",
       "      <td>13294.33</td>\n",
       "      <td>13481.0</td>\n",
       "      <td>569.0</td>\n",
       "      <td>200.0</td>\n",
       "      <td>0</td>\n",
       "    </tr>\n",
       "    <tr>\n",
       "      <th>4</th>\n",
       "      <td>375566</td>\n",
       "      <td>2017-08-23</td>\n",
       "      <td>36.0</td>\n",
       "      <td>1.0</td>\n",
       "      <td>5.0</td>\n",
       "      <td>116.0</td>\n",
       "      <td>0.0</td>\n",
       "      <td>39678.0</td>\n",
       "      <td>2143.38</td>\n",
       "      <td>20054.76</td>\n",
       "      <td>19227.4</td>\n",
       "      <td>633.0</td>\n",
       "      <td>7000.0</td>\n",
       "      <td>0</td>\n",
       "    </tr>\n",
       "  </tbody>\n",
       "</table>\n",
       "</div>"
      ],
      "text/plain": [
       "   Customer_WID DisbursementDate   Age  CustomerType  SOR  MonthsSinceOpen  \\\n",
       "0        380415       2017-10-13  27.0           1.0  3.0             53.0   \n",
       "1        153249       2017-09-06  54.0           1.0  3.0            142.0   \n",
       "2         82776       2017-09-25  44.0           2.0  5.0             70.0   \n",
       "3        190996       2017-06-23  30.0           1.0  5.0             93.0   \n",
       "4        375566       2017-08-23  36.0           1.0  5.0            116.0   \n",
       "\n",
       "   MonthsSinceActive  FinancialMeasure1  FinancialMeasure2  FinancialMeasure3  \\\n",
       "0                0.0                0.0              25.85            7308.66   \n",
       "1                0.0                0.0              12.05            6268.00   \n",
       "2                0.0                0.0             369.04           15475.66   \n",
       "3                0.0                0.0             403.01           13294.33   \n",
       "4                0.0            39678.0            2143.38           20054.76   \n",
       "\n",
       "   FinancialMeasure4  CRBScore  Amount  Default  \n",
       "0             8885.0     547.0  1000.0        0  \n",
       "1             3807.0     506.0  2050.0        0  \n",
       "2            13883.0     554.0   500.0        0  \n",
       "3            13481.0     569.0   200.0        0  \n",
       "4            19227.4     633.0  7000.0        0  "
      ]
     },
     "execution_count": 4,
     "metadata": {},
     "output_type": "execute_result"
    }
   ],
   "source": [
    "loans_df.head()"
   ]
  },
  {
   "cell_type": "code",
   "execution_count": 5,
   "metadata": {},
   "outputs": [
    {
     "name": "stdout",
     "output_type": "stream",
     "text": [
      "<class 'pandas.core.frame.DataFrame'>\n",
      "RangeIndex: 500000 entries, 0 to 499999\n",
      "Data columns (total 14 columns):\n",
      " #   Column             Non-Null Count   Dtype  \n",
      "---  ------             --------------   -----  \n",
      " 0   Customer_WID       500000 non-null  int64  \n",
      " 1   DisbursementDate   500000 non-null  object \n",
      " 2   Age                499989 non-null  float64\n",
      " 3   CustomerType       499989 non-null  float64\n",
      " 4   SOR                499989 non-null  float64\n",
      " 5   MonthsSinceOpen    499989 non-null  float64\n",
      " 6   MonthsSinceActive  499989 non-null  float64\n",
      " 7   FinancialMeasure1  499989 non-null  float64\n",
      " 8   FinancialMeasure2  499989 non-null  float64\n",
      " 9   FinancialMeasure3  499989 non-null  float64\n",
      " 10  FinancialMeasure4  499989 non-null  float64\n",
      " 11  CRBScore           499989 non-null  float64\n",
      " 12  Amount             500000 non-null  float64\n",
      " 13  Default            500000 non-null  int64  \n",
      "dtypes: float64(11), int64(2), object(1)\n",
      "memory usage: 53.4+ MB\n"
     ]
    }
   ],
   "source": [
    "loans_df.info()"
   ]
  },
  {
   "cell_type": "code",
   "execution_count": 6,
   "metadata": {},
   "outputs": [
    {
     "data": {
      "text/html": [
       "<div>\n",
       "<style scoped>\n",
       "    .dataframe tbody tr th:only-of-type {\n",
       "        vertical-align: middle;\n",
       "    }\n",
       "\n",
       "    .dataframe tbody tr th {\n",
       "        vertical-align: top;\n",
       "    }\n",
       "\n",
       "    .dataframe thead th {\n",
       "        text-align: right;\n",
       "    }\n",
       "</style>\n",
       "<table border=\"1\" class=\"dataframe\">\n",
       "  <thead>\n",
       "    <tr style=\"text-align: right;\">\n",
       "      <th></th>\n",
       "      <th>Customer_WID</th>\n",
       "      <th>Age</th>\n",
       "      <th>CustomerType</th>\n",
       "      <th>SOR</th>\n",
       "      <th>MonthsSinceOpen</th>\n",
       "      <th>MonthsSinceActive</th>\n",
       "      <th>FinancialMeasure1</th>\n",
       "      <th>FinancialMeasure2</th>\n",
       "      <th>FinancialMeasure3</th>\n",
       "      <th>FinancialMeasure4</th>\n",
       "      <th>CRBScore</th>\n",
       "      <th>Amount</th>\n",
       "      <th>Default</th>\n",
       "    </tr>\n",
       "  </thead>\n",
       "  <tbody>\n",
       "    <tr>\n",
       "      <th>count</th>\n",
       "      <td>500000.000000</td>\n",
       "      <td>499989.000000</td>\n",
       "      <td>499989.000000</td>\n",
       "      <td>499989.000000</td>\n",
       "      <td>499989.000000</td>\n",
       "      <td>499989.000000</td>\n",
       "      <td>4.999890e+05</td>\n",
       "      <td>4.999890e+05</td>\n",
       "      <td>4.999890e+05</td>\n",
       "      <td>4.999890e+05</td>\n",
       "      <td>499989.000000</td>\n",
       "      <td>500000.000000</td>\n",
       "      <td>500000.000000</td>\n",
       "    </tr>\n",
       "    <tr>\n",
       "      <th>mean</th>\n",
       "      <td>208928.520236</td>\n",
       "      <td>37.999568</td>\n",
       "      <td>1.279290</td>\n",
       "      <td>4.781061</td>\n",
       "      <td>89.711334</td>\n",
       "      <td>0.000004</td>\n",
       "      <td>1.535980e+04</td>\n",
       "      <td>1.190511e+04</td>\n",
       "      <td>1.009236e+05</td>\n",
       "      <td>1.018893e+05</td>\n",
       "      <td>586.127537</td>\n",
       "      <td>9155.098668</td>\n",
       "      <td>0.023830</td>\n",
       "    </tr>\n",
       "    <tr>\n",
       "      <th>std</th>\n",
       "      <td>120648.505833</td>\n",
       "      <td>10.986557</td>\n",
       "      <td>0.448664</td>\n",
       "      <td>0.910897</td>\n",
       "      <td>33.675991</td>\n",
       "      <td>0.002828</td>\n",
       "      <td>3.584068e+04</td>\n",
       "      <td>5.380335e+04</td>\n",
       "      <td>7.665491e+05</td>\n",
       "      <td>7.765588e+05</td>\n",
       "      <td>109.543161</td>\n",
       "      <td>16812.813799</td>\n",
       "      <td>0.152519</td>\n",
       "    </tr>\n",
       "    <tr>\n",
       "      <th>min</th>\n",
       "      <td>2.000000</td>\n",
       "      <td>3.000000</td>\n",
       "      <td>0.000000</td>\n",
       "      <td>0.000000</td>\n",
       "      <td>4.000000</td>\n",
       "      <td>0.000000</td>\n",
       "      <td>0.000000e+00</td>\n",
       "      <td>-4.523452e+06</td>\n",
       "      <td>0.000000e+00</td>\n",
       "      <td>0.000000e+00</td>\n",
       "      <td>0.000000</td>\n",
       "      <td>100.000000</td>\n",
       "      <td>0.000000</td>\n",
       "    </tr>\n",
       "    <tr>\n",
       "      <th>25%</th>\n",
       "      <td>104443.750000</td>\n",
       "      <td>30.000000</td>\n",
       "      <td>1.000000</td>\n",
       "      <td>4.000000</td>\n",
       "      <td>65.000000</td>\n",
       "      <td>0.000000</td>\n",
       "      <td>0.000000e+00</td>\n",
       "      <td>7.661200e+02</td>\n",
       "      <td>1.186523e+04</td>\n",
       "      <td>1.109770e+04</td>\n",
       "      <td>547.000000</td>\n",
       "      <td>2000.000000</td>\n",
       "      <td>0.000000</td>\n",
       "    </tr>\n",
       "    <tr>\n",
       "      <th>50%</th>\n",
       "      <td>209088.500000</td>\n",
       "      <td>36.000000</td>\n",
       "      <td>1.000000</td>\n",
       "      <td>5.000000</td>\n",
       "      <td>96.000000</td>\n",
       "      <td>0.000000</td>\n",
       "      <td>0.000000e+00</td>\n",
       "      <td>2.819820e+03</td>\n",
       "      <td>1.939200e+04</td>\n",
       "      <td>1.861900e+04</td>\n",
       "      <td>603.000000</td>\n",
       "      <td>4900.000000</td>\n",
       "      <td>0.000000</td>\n",
       "    </tr>\n",
       "    <tr>\n",
       "      <th>75%</th>\n",
       "      <td>313030.250000</td>\n",
       "      <td>44.000000</td>\n",
       "      <td>2.000000</td>\n",
       "      <td>5.000000</td>\n",
       "      <td>116.000000</td>\n",
       "      <td>0.000000</td>\n",
       "      <td>2.076600e+04</td>\n",
       "      <td>7.417820e+03</td>\n",
       "      <td>3.872886e+04</td>\n",
       "      <td>3.740300e+04</td>\n",
       "      <td>653.000000</td>\n",
       "      <td>9900.000000</td>\n",
       "      <td>0.000000</td>\n",
       "    </tr>\n",
       "    <tr>\n",
       "      <th>max</th>\n",
       "      <td>418241.000000</td>\n",
       "      <td>118.000000</td>\n",
       "      <td>3.000000</td>\n",
       "      <td>8.000000</td>\n",
       "      <td>144.000000</td>\n",
       "      <td>2.000000</td>\n",
       "      <td>2.186055e+06</td>\n",
       "      <td>5.705195e+06</td>\n",
       "      <td>9.747924e+07</td>\n",
       "      <td>9.467495e+07</td>\n",
       "      <td>747.000000</td>\n",
       "      <td>200000.000000</td>\n",
       "      <td>1.000000</td>\n",
       "    </tr>\n",
       "  </tbody>\n",
       "</table>\n",
       "</div>"
      ],
      "text/plain": [
       "        Customer_WID            Age   CustomerType            SOR  \\\n",
       "count  500000.000000  499989.000000  499989.000000  499989.000000   \n",
       "mean   208928.520236      37.999568       1.279290       4.781061   \n",
       "std    120648.505833      10.986557       0.448664       0.910897   \n",
       "min         2.000000       3.000000       0.000000       0.000000   \n",
       "25%    104443.750000      30.000000       1.000000       4.000000   \n",
       "50%    209088.500000      36.000000       1.000000       5.000000   \n",
       "75%    313030.250000      44.000000       2.000000       5.000000   \n",
       "max    418241.000000     118.000000       3.000000       8.000000   \n",
       "\n",
       "       MonthsSinceOpen  MonthsSinceActive  FinancialMeasure1  \\\n",
       "count    499989.000000      499989.000000       4.999890e+05   \n",
       "mean         89.711334           0.000004       1.535980e+04   \n",
       "std          33.675991           0.002828       3.584068e+04   \n",
       "min           4.000000           0.000000       0.000000e+00   \n",
       "25%          65.000000           0.000000       0.000000e+00   \n",
       "50%          96.000000           0.000000       0.000000e+00   \n",
       "75%         116.000000           0.000000       2.076600e+04   \n",
       "max         144.000000           2.000000       2.186055e+06   \n",
       "\n",
       "       FinancialMeasure2  FinancialMeasure3  FinancialMeasure4       CRBScore  \\\n",
       "count       4.999890e+05       4.999890e+05       4.999890e+05  499989.000000   \n",
       "mean        1.190511e+04       1.009236e+05       1.018893e+05     586.127537   \n",
       "std         5.380335e+04       7.665491e+05       7.765588e+05     109.543161   \n",
       "min        -4.523452e+06       0.000000e+00       0.000000e+00       0.000000   \n",
       "25%         7.661200e+02       1.186523e+04       1.109770e+04     547.000000   \n",
       "50%         2.819820e+03       1.939200e+04       1.861900e+04     603.000000   \n",
       "75%         7.417820e+03       3.872886e+04       3.740300e+04     653.000000   \n",
       "max         5.705195e+06       9.747924e+07       9.467495e+07     747.000000   \n",
       "\n",
       "              Amount        Default  \n",
       "count  500000.000000  500000.000000  \n",
       "mean     9155.098668       0.023830  \n",
       "std     16812.813799       0.152519  \n",
       "min       100.000000       0.000000  \n",
       "25%      2000.000000       0.000000  \n",
       "50%      4900.000000       0.000000  \n",
       "75%      9900.000000       0.000000  \n",
       "max    200000.000000       1.000000  "
      ]
     },
     "execution_count": 6,
     "metadata": {},
     "output_type": "execute_result"
    }
   ],
   "source": [
    "loans_df.describe()"
   ]
  },
  {
   "cell_type": "code",
   "execution_count": 7,
   "metadata": {},
   "outputs": [
    {
     "data": {
      "text/plain": [
       "Customer_WID          0\n",
       "DisbursementDate      0\n",
       "Age                  11\n",
       "CustomerType         11\n",
       "SOR                  11\n",
       "MonthsSinceOpen      11\n",
       "MonthsSinceActive    11\n",
       "FinancialMeasure1    11\n",
       "FinancialMeasure2    11\n",
       "FinancialMeasure3    11\n",
       "FinancialMeasure4    11\n",
       "CRBScore             11\n",
       "Amount                0\n",
       "Default               0\n",
       "dtype: int64"
      ]
     },
     "execution_count": 7,
     "metadata": {},
     "output_type": "execute_result"
    }
   ],
   "source": [
    "#null values in the dataset\n",
    "loans_df.isnull().sum()"
   ]
  },
  {
   "cell_type": "code",
   "execution_count": 8,
   "metadata": {},
   "outputs": [],
   "source": [
    "#drop the null values\n",
    "loans_df=loans_df.dropna()"
   ]
  },
  {
   "cell_type": "code",
   "execution_count": 9,
   "metadata": {},
   "outputs": [
    {
     "data": {
      "text/plain": [
       "Customer_WID         0\n",
       "DisbursementDate     0\n",
       "Age                  0\n",
       "CustomerType         0\n",
       "SOR                  0\n",
       "MonthsSinceOpen      0\n",
       "MonthsSinceActive    0\n",
       "FinancialMeasure1    0\n",
       "FinancialMeasure2    0\n",
       "FinancialMeasure3    0\n",
       "FinancialMeasure4    0\n",
       "CRBScore             0\n",
       "Amount               0\n",
       "Default              0\n",
       "dtype: int64"
      ]
     },
     "execution_count": 9,
     "metadata": {},
     "output_type": "execute_result"
    }
   ],
   "source": [
    "#null values dropped\n",
    "loans_df.isnull().sum()"
   ]
  },
  {
   "cell_type": "code",
   "execution_count": 10,
   "metadata": {},
   "outputs": [
    {
     "data": {
      "text/plain": [
       "<function matplotlib.pyplot.show(close=None, block=None)>"
      ]
     },
     "execution_count": 10,
     "metadata": {},
     "output_type": "execute_result"
    },
    {
     "data": {
      "image/png": "[encoded data removed]",
      "text/plain": [
       "<Figure size 432x288 with 1 Axes>"
      ]
     },
     "metadata": {
      "needs_background": "light"
     },
     "output_type": "display_data"
    }
   ],
   "source": [
    "plt.hist(loans_df['CRBScore'])\n",
    "plt.title(\"Histogram for CRBScore feature\")\n",
    "plt.xlabel(\"CRBScore\")\n",
    "plt.ylabel(\"Frequency\")\n",
    "plt.show"
   ]
  },
  {
   "cell_type": "code",
   "execution_count": 11,
   "metadata": {},
   "outputs": [
    {
     "data": {
      "text/plain": [
       "<function matplotlib.pyplot.show(close=None, block=None)>"
      ]
     },
     "execution_count": 11,
     "metadata": {},
     "output_type": "execute_result"
    },
    {
     "data": {
      "image/png": "[encoded data removed]",
      "text/plain": [
       "<Figure size 432x288 with 1 Axes>"
      ]
     },
     "metadata": {
      "needs_background": "light"
     },
     "output_type": "display_data"
    }
   ],
   "source": [
    "plt.hist(loans_df['Amount'])\n",
    "plt.title(\"Histogram for Amount feature\")\n",
    "plt.xlabel(\"Amount\")\n",
    "plt.ylabel(\"Frequency\")\n",
    "plt.show"
   ]
  },
  {
   "cell_type": "code",
   "execution_count": 12,
   "metadata": {},
   "outputs": [
    {
     "data": {
      "text/plain": [
       "<AxesSubplot:xlabel='Age'>"
      ]
     },
     "execution_count": 12,
     "metadata": {},
     "output_type": "execute_result"
    },
    {
     "data": {
      "image/png": "[encoded data removed]",
      "text/plain": [
       "<Figure size 432x288 with 1 Axes>"
      ]
     },
     "metadata": {
      "needs_background": "light"
     },
     "output_type": "display_data"
    }
   ],
   "source": [
    "#Distribution of the age feature\n",
    "sns.distplot(loans_df[\"Age\"])"
   ]
  },
  {
   "cell_type": "code",
   "execution_count": 68,
   "metadata": {},
   "outputs": [
    {
     "data": {
      "text/plain": [
       "<AxesSubplot:xlabel='CRBScore'>"
      ]
     },
     "execution_count": 68,
     "metadata": {},
     "output_type": "execute_result"
    },
    {
     "data": {
      "image/png": "[encoded data removed]",
      "text/plain": [
       "<Figure size 432x288 with 1 Axes>"
      ]
     },
     "metadata": {
      "needs_background": "light"
     },
     "output_type": "display_data"
    }
   ],
   "source": [
    "sns.boxplot(loans_df[\"CRBScore\"])"
   ]
  },
  {
   "cell_type": "code",
   "execution_count": 80,
   "metadata": {},
   "outputs": [],
   "source": [
    "loans_df[\"CRBScore\"]"
   ]
  },
  {
   "cell_type": "code",
   "execution_count": 13,
   "metadata": {},
   "outputs": [
    {
     "data": {
      "text/plain": [
       "<AxesSubplot:xlabel='SOR', ylabel='CRBScore'>"
      ]
     },
     "execution_count": 13,
     "metadata": {},
     "output_type": "execute_result"
    },
    {
     "data": {
      "image/png": "[encoded data removed]",
      "text/plain": [
       "<Figure size 432x288 with 1 Axes>"
      ]
     },
     "metadata": {
      "needs_background": "light"
     },
     "output_type": "display_data"
    }
   ],
   "source": [
    "sns.boxplot(x=\"SOR\",y=\"CRBScore\",data=loans_df)"
   ]
  },
  {
   "cell_type": "code",
   "execution_count": 14,
   "metadata": {},
   "outputs": [
    {
     "data": {
      "image/png": "[encoded data removed]",
      "text/plain": [
       "<Figure size 432x288 with 1 Axes>"
      ]
     },
     "metadata": {
      "needs_background": "light"
     },
     "output_type": "display_data"
    }
   ],
   "source": [
    "#violin plot showing Default distribution along age and customertype\n",
    "ax = sns.violinplot(x=\"CustomerType\", y=\"Age\", hue=\"Default\",data=loans_df, palette=\"muted\",scale=\"count\")"
   ]
  },
  {
   "cell_type": "code",
   "execution_count": 15,
   "metadata": {},
   "outputs": [
    {
     "data": {
      "text/plain": [
       "5.0    311027\n",
       "4.0     86345\n",
       "3.0     51469\n",
       "6.0     26789\n",
       "7.0     19890\n",
       "8.0      4443\n",
       "2.0        24\n",
       "0.0         2\n",
       "Name: SOR, dtype: int64"
      ]
     },
     "execution_count": 15,
     "metadata": {},
     "output_type": "execute_result"
    }
   ],
   "source": [
    "loans_df['SOR'].value_counts()"
   ]
  },
  {
   "cell_type": "code",
   "execution_count": 16,
   "metadata": {},
   "outputs": [
    {
     "data": {
      "text/plain": [
       "<AxesSubplot:xlabel='CRBScore', ylabel='Amount'>"
      ]
     },
     "execution_count": 16,
     "metadata": {},
     "output_type": "execute_result"
    },
    {
     "data": {
      "image/png": "[encoded data removed]",
      "text/plain": [
       "<Figure size 432x288 with 1 Axes>"
      ]
     },
     "metadata": {
      "needs_background": "light"
     },
     "output_type": "display_data"
    }
   ],
   "source": [
    "sns.scatterplot(x=\"CRBScore\",y=\"Amount\",hue=\"Default\",data=loans_df)"
   ]
  },
  {
   "cell_type": "code",
   "execution_count": 17,
   "metadata": {},
   "outputs": [
    {
     "data": {
      "text/plain": [
       "<AxesSubplot:xlabel='MonthsSinceOpen'>"
      ]
     },
     "execution_count": 17,
     "metadata": {},
     "output_type": "execute_result"
    },
    {
     "data": {
      "image/png": "[encoded data removed]",
      "text/plain": [
       "<Figure size 432x288 with 1 Axes>"
      ]
     },
     "metadata": {
      "needs_background": "light"
     },
     "output_type": "display_data"
    }
   ],
   "source": [
    "sns.distplot(loans_df[\"MonthsSinceOpen\"])"
   ]
  },
  {
   "cell_type": "code",
   "execution_count": 18,
   "metadata": {
    "scrolled": true
   },
   "outputs": [
    {
     "data": {
      "image/png": "[encoded data removed]",
      "text/plain": [
       "<Figure size 1152x360 with 2 Axes>"
      ]
     },
     "metadata": {
      "needs_background": "light"
     },
     "output_type": "display_data"
    }
   ],
   "source": [
    "# correlation heatmap\n",
    "correlation=loans_df.corr(method='pearson')\n",
    "plt.figure(figsize=(16,5))\n",
    "# plot correlation matrix\n",
    "ax = sns.heatmap(correlation, annot=True)"
   ]
  },
  {
   "cell_type": "markdown",
   "metadata": {},
   "source": [
    "# Feature selection"
   ]
  },
  {
   "cell_type": "markdown",
   "metadata": {},
   "source": [
    "MothsSinceActive and Customer_WID  are very uncorrelated to Default as illustrated by the heatmap.Their correlation with default lies in the ten of thousandths.So these fields shall be dropped.Financial measure 3 and financial measure 4 are highly correlated so one of the two features needs to be dropped in training the model.Disbursementdate will also be dropped as it adds little value to training of the model."
   ]
  },
  {
   "cell_type": "code",
   "execution_count": 19,
   "metadata": {},
   "outputs": [],
   "source": [
    "modified_loans_df=loans_df.drop([\"Customer_WID\",\"MonthsSinceActive\",\"DisbursementDate\",\"FinancialMeasure3\"],axis=1)"
   ]
  },
  {
   "cell_type": "code",
   "execution_count": 20,
   "metadata": {},
   "outputs": [
    {
     "data": {
      "text/html": [
       "<div>\n",
       "<style scoped>\n",
       "    .dataframe tbody tr th:only-of-type {\n",
       "        vertical-align: middle;\n",
       "    }\n",
       "\n",
       "    .dataframe tbody tr th {\n",
       "        vertical-align: top;\n",
       "    }\n",
       "\n",
       "    .dataframe thead th {\n",
       "        text-align: right;\n",
       "    }\n",
       "</style>\n",
       "<table border=\"1\" class=\"dataframe\">\n",
       "  <thead>\n",
       "    <tr style=\"text-align: right;\">\n",
       "      <th></th>\n",
       "      <th>Age</th>\n",
       "      <th>CustomerType</th>\n",
       "      <th>SOR</th>\n",
       "      <th>MonthsSinceOpen</th>\n",
       "      <th>FinancialMeasure1</th>\n",
       "      <th>FinancialMeasure2</th>\n",
       "      <th>FinancialMeasure4</th>\n",
       "      <th>CRBScore</th>\n",
       "      <th>Amount</th>\n",
       "      <th>Default</th>\n",
       "    </tr>\n",
       "  </thead>\n",
       "  <tbody>\n",
       "    <tr>\n",
       "      <th>0</th>\n",
       "      <td>27.0</td>\n",
       "      <td>1.0</td>\n",
       "      <td>3.0</td>\n",
       "      <td>53.0</td>\n",
       "      <td>0.0</td>\n",
       "      <td>25.85</td>\n",
       "      <td>8885.0</td>\n",
       "      <td>547.0</td>\n",
       "      <td>1000.0</td>\n",
       "      <td>0</td>\n",
       "    </tr>\n",
       "    <tr>\n",
       "      <th>1</th>\n",
       "      <td>54.0</td>\n",
       "      <td>1.0</td>\n",
       "      <td>3.0</td>\n",
       "      <td>142.0</td>\n",
       "      <td>0.0</td>\n",
       "      <td>12.05</td>\n",
       "      <td>3807.0</td>\n",
       "      <td>506.0</td>\n",
       "      <td>2050.0</td>\n",
       "      <td>0</td>\n",
       "    </tr>\n",
       "    <tr>\n",
       "      <th>2</th>\n",
       "      <td>44.0</td>\n",
       "      <td>2.0</td>\n",
       "      <td>5.0</td>\n",
       "      <td>70.0</td>\n",
       "      <td>0.0</td>\n",
       "      <td>369.04</td>\n",
       "      <td>13883.0</td>\n",
       "      <td>554.0</td>\n",
       "      <td>500.0</td>\n",
       "      <td>0</td>\n",
       "    </tr>\n",
       "    <tr>\n",
       "      <th>3</th>\n",
       "      <td>30.0</td>\n",
       "      <td>1.0</td>\n",
       "      <td>5.0</td>\n",
       "      <td>93.0</td>\n",
       "      <td>0.0</td>\n",
       "      <td>403.01</td>\n",
       "      <td>13481.0</td>\n",
       "      <td>569.0</td>\n",
       "      <td>200.0</td>\n",
       "      <td>0</td>\n",
       "    </tr>\n",
       "    <tr>\n",
       "      <th>4</th>\n",
       "      <td>36.0</td>\n",
       "      <td>1.0</td>\n",
       "      <td>5.0</td>\n",
       "      <td>116.0</td>\n",
       "      <td>39678.0</td>\n",
       "      <td>2143.38</td>\n",
       "      <td>19227.4</td>\n",
       "      <td>633.0</td>\n",
       "      <td>7000.0</td>\n",
       "      <td>0</td>\n",
       "    </tr>\n",
       "  </tbody>\n",
       "</table>\n",
       "</div>"
      ],
      "text/plain": [
       "    Age  CustomerType  SOR  MonthsSinceOpen  FinancialMeasure1  \\\n",
       "0  27.0           1.0  3.0             53.0                0.0   \n",
       "1  54.0           1.0  3.0            142.0                0.0   \n",
       "2  44.0           2.0  5.0             70.0                0.0   \n",
       "3  30.0           1.0  5.0             93.0                0.0   \n",
       "4  36.0           1.0  5.0            116.0            39678.0   \n",
       "\n",
       "   FinancialMeasure2  FinancialMeasure4  CRBScore  Amount  Default  \n",
       "0              25.85             8885.0     547.0  1000.0        0  \n",
       "1              12.05             3807.0     506.0  2050.0        0  \n",
       "2             369.04            13883.0     554.0   500.0        0  \n",
       "3             403.01            13481.0     569.0   200.0        0  \n",
       "4            2143.38            19227.4     633.0  7000.0        0  "
      ]
     },
     "execution_count": 20,
     "metadata": {},
     "output_type": "execute_result"
    }
   ],
   "source": [
    "modified_loans_df.head()"
   ]
  },
  {
   "cell_type": "code",
   "execution_count": 21,
   "metadata": {},
   "outputs": [],
   "source": [
    "#initializing x and y variables\n",
    "x=modified_loans_df.drop([\"Default\",\"FinancialMeasure2\"],axis=1)"
   ]
  },
  {
   "cell_type": "code",
   "execution_count": 22,
   "metadata": {},
   "outputs": [
    {
     "data": {
      "text/html": [
       "<div>\n",
       "<style scoped>\n",
       "    .dataframe tbody tr th:only-of-type {\n",
       "        vertical-align: middle;\n",
       "    }\n",
       "\n",
       "    .dataframe tbody tr th {\n",
       "        vertical-align: top;\n",
       "    }\n",
       "\n",
       "    .dataframe thead th {\n",
       "        text-align: right;\n",
       "    }\n",
       "</style>\n",
       "<table border=\"1\" class=\"dataframe\">\n",
       "  <thead>\n",
       "    <tr style=\"text-align: right;\">\n",
       "      <th></th>\n",
       "      <th>Age</th>\n",
       "      <th>CustomerType</th>\n",
       "      <th>SOR</th>\n",
       "      <th>MonthsSinceOpen</th>\n",
       "      <th>FinancialMeasure1</th>\n",
       "      <th>FinancialMeasure4</th>\n",
       "      <th>CRBScore</th>\n",
       "      <th>Amount</th>\n",
       "    </tr>\n",
       "  </thead>\n",
       "  <tbody>\n",
       "    <tr>\n",
       "      <th>0</th>\n",
       "      <td>27.0</td>\n",
       "      <td>1.0</td>\n",
       "      <td>3.0</td>\n",
       "      <td>53.0</td>\n",
       "      <td>0.0</td>\n",
       "      <td>8885.0</td>\n",
       "      <td>547.0</td>\n",
       "      <td>1000.0</td>\n",
       "    </tr>\n",
       "    <tr>\n",
       "      <th>1</th>\n",
       "      <td>54.0</td>\n",
       "      <td>1.0</td>\n",
       "      <td>3.0</td>\n",
       "      <td>142.0</td>\n",
       "      <td>0.0</td>\n",
       "      <td>3807.0</td>\n",
       "      <td>506.0</td>\n",
       "      <td>2050.0</td>\n",
       "    </tr>\n",
       "    <tr>\n",
       "      <th>2</th>\n",
       "      <td>44.0</td>\n",
       "      <td>2.0</td>\n",
       "      <td>5.0</td>\n",
       "      <td>70.0</td>\n",
       "      <td>0.0</td>\n",
       "      <td>13883.0</td>\n",
       "      <td>554.0</td>\n",
       "      <td>500.0</td>\n",
       "    </tr>\n",
       "    <tr>\n",
       "      <th>3</th>\n",
       "      <td>30.0</td>\n",
       "      <td>1.0</td>\n",
       "      <td>5.0</td>\n",
       "      <td>93.0</td>\n",
       "      <td>0.0</td>\n",
       "      <td>13481.0</td>\n",
       "      <td>569.0</td>\n",
       "      <td>200.0</td>\n",
       "    </tr>\n",
       "    <tr>\n",
       "      <th>4</th>\n",
       "      <td>36.0</td>\n",
       "      <td>1.0</td>\n",
       "      <td>5.0</td>\n",
       "      <td>116.0</td>\n",
       "      <td>39678.0</td>\n",
       "      <td>19227.4</td>\n",
       "      <td>633.0</td>\n",
       "      <td>7000.0</td>\n",
       "    </tr>\n",
       "  </tbody>\n",
       "</table>\n",
       "</div>"
      ],
      "text/plain": [
       "    Age  CustomerType  SOR  MonthsSinceOpen  FinancialMeasure1  \\\n",
       "0  27.0           1.0  3.0             53.0                0.0   \n",
       "1  54.0           1.0  3.0            142.0                0.0   \n",
       "2  44.0           2.0  5.0             70.0                0.0   \n",
       "3  30.0           1.0  5.0             93.0                0.0   \n",
       "4  36.0           1.0  5.0            116.0            39678.0   \n",
       "\n",
       "   FinancialMeasure4  CRBScore  Amount  \n",
       "0             8885.0     547.0  1000.0  \n",
       "1             3807.0     506.0  2050.0  \n",
       "2            13883.0     554.0   500.0  \n",
       "3            13481.0     569.0   200.0  \n",
       "4            19227.4     633.0  7000.0  "
      ]
     },
     "execution_count": 22,
     "metadata": {},
     "output_type": "execute_result"
    }
   ],
   "source": [
    "x.head()"
   ]
  },
  {
   "cell_type": "code",
   "execution_count": 23,
   "metadata": {},
   "outputs": [
    {
     "data": {
      "text/plain": [
       "False"
      ]
     },
     "execution_count": 23,
     "metadata": {},
     "output_type": "execute_result"
    }
   ],
   "source": [
    "(x<0).any().any()"
   ]
  },
  {
   "cell_type": "code",
   "execution_count": 24,
   "metadata": {},
   "outputs": [],
   "source": [
    "y=modified_loans_df[\"Default\"]"
   ]
  },
  {
   "cell_type": "code",
   "execution_count": 25,
   "metadata": {},
   "outputs": [
    {
     "data": {
      "text/plain": [
       "False"
      ]
     },
     "execution_count": 25,
     "metadata": {},
     "output_type": "execute_result"
    }
   ],
   "source": [
    "(y<0).any()"
   ]
  },
  {
   "cell_type": "code",
   "execution_count": 26,
   "metadata": {},
   "outputs": [
    {
     "data": {
      "text/html": [
       "<div>\n",
       "<style scoped>\n",
       "    .dataframe tbody tr th:only-of-type {\n",
       "        vertical-align: middle;\n",
       "    }\n",
       "\n",
       "    .dataframe tbody tr th {\n",
       "        vertical-align: top;\n",
       "    }\n",
       "\n",
       "    .dataframe thead th {\n",
       "        text-align: right;\n",
       "    }\n",
       "</style>\n",
       "<table border=\"1\" class=\"dataframe\">\n",
       "  <thead>\n",
       "    <tr style=\"text-align: right;\">\n",
       "      <th></th>\n",
       "      <th>Specs</th>\n",
       "      <th>Scores</th>\n",
       "    </tr>\n",
       "  </thead>\n",
       "  <tbody>\n",
       "    <tr>\n",
       "      <th>0</th>\n",
       "      <td>3.142468e+03</td>\n",
       "      <td>Age</td>\n",
       "    </tr>\n",
       "    <tr>\n",
       "      <th>7</th>\n",
       "      <td>2.484145e+04</td>\n",
       "      <td>Amount</td>\n",
       "    </tr>\n",
       "    <tr>\n",
       "      <th>6</th>\n",
       "      <td>2.322474e+04</td>\n",
       "      <td>CRBScore</td>\n",
       "    </tr>\n",
       "    <tr>\n",
       "      <th>1</th>\n",
       "      <td>2.261166e+02</td>\n",
       "      <td>CustomerType</td>\n",
       "    </tr>\n",
       "    <tr>\n",
       "      <th>4</th>\n",
       "      <td>4.328420e+07</td>\n",
       "      <td>FinancialMeasure1</td>\n",
       "    </tr>\n",
       "    <tr>\n",
       "      <th>5</th>\n",
       "      <td>1.235236e+08</td>\n",
       "      <td>FinancialMeasure4</td>\n",
       "    </tr>\n",
       "    <tr>\n",
       "      <th>3</th>\n",
       "      <td>1.631542e+04</td>\n",
       "      <td>MonthsSinceOpen</td>\n",
       "    </tr>\n",
       "    <tr>\n",
       "      <th>2</th>\n",
       "      <td>9.539334e+02</td>\n",
       "      <td>SOR</td>\n",
       "    </tr>\n",
       "  </tbody>\n",
       "</table>\n",
       "</div>"
      ],
      "text/plain": [
       "          Specs             Scores\n",
       "0  3.142468e+03                Age\n",
       "7  2.484145e+04             Amount\n",
       "6  2.322474e+04           CRBScore\n",
       "1  2.261166e+02       CustomerType\n",
       "4  4.328420e+07  FinancialMeasure1\n",
       "5  1.235236e+08  FinancialMeasure4\n",
       "3  1.631542e+04    MonthsSinceOpen\n",
       "2  9.539334e+02                SOR"
      ]
     },
     "execution_count": 26,
     "metadata": {},
     "output_type": "execute_result"
    }
   ],
   "source": [
    "best_features=SelectKBest(score_func=chi2,k=\"all\")\n",
    "fit=best_features.fit(x,y)\n",
    "df_scores=pd.DataFrame(x,y)\n",
    "df_scores=pd.DataFrame(fit.scores_)\n",
    "df_columns=pd.DataFrame(x.columns)\n",
    "featureScores=pd.concat([df_scores,df_columns],axis=1)\n",
    "featureScores.columns=['Specs','Scores']\n",
    "featureScores.sort_values(ascending=\"false\",by=\"Scores\")"
   ]
  },
  {
   "cell_type": "code",
   "execution_count": 27,
   "metadata": {},
   "outputs": [],
   "source": [
    "#training and testing  data\n",
    "X_train,X_test,y_train,y_test=train_test_split(x,y,test_size=0.2)\n"
   ]
  },
  {
   "cell_type": "code",
   "execution_count": 28,
   "metadata": {},
   "outputs": [],
   "source": [
    "# concatenate training data back together\n",
    "X=pd.concat([X_train,y_train],axis=1)"
   ]
  },
  {
   "cell_type": "code",
   "execution_count": 29,
   "metadata": {},
   "outputs": [],
   "source": [
    "#seperate minority and majority classes\n",
    "non_default=X[X.Default==0]\n",
    "default=X[X.Default==1]"
   ]
  },
  {
   "cell_type": "code",
   "execution_count": 30,
   "metadata": {},
   "outputs": [],
   "source": [
    "#upsample minority\n",
    "default_upsampled=resample(default,replace=True, # sample with replacement\n",
    "                          n_samples=len(non_default), # match number in majority class\n",
    "                          random_state=27) # reproducible results"
   ]
  },
  {
   "cell_type": "code",
   "execution_count": 31,
   "metadata": {},
   "outputs": [],
   "source": [
    "# combine majority and upsampled minority\n",
    "upsampled = pd.concat([non_default, default_upsampled])\n"
   ]
  },
  {
   "cell_type": "code",
   "execution_count": 32,
   "metadata": {},
   "outputs": [
    {
     "data": {
      "text/plain": [
       "0    390456\n",
       "1    390456\n",
       "Name: Default, dtype: int64"
      ]
     },
     "execution_count": 32,
     "metadata": {},
     "output_type": "execute_result"
    }
   ],
   "source": [
    "upsampled.Default.value_counts()"
   ]
  },
  {
   "cell_type": "code",
   "execution_count": 33,
   "metadata": {},
   "outputs": [
    {
     "data": {
      "text/plain": [
       "399991"
      ]
     },
     "execution_count": 33,
     "metadata": {},
     "output_type": "execute_result"
    }
   ],
   "source": [
    "len(X_train)"
   ]
  },
  {
   "cell_type": "code",
   "execution_count": 34,
   "metadata": {},
   "outputs": [
    {
     "data": {
      "text/plain": [
       "99998"
      ]
     },
     "execution_count": 34,
     "metadata": {},
     "output_type": "execute_result"
    }
   ],
   "source": [
    "len(X_test)"
   ]
  },
  {
   "cell_type": "code",
   "execution_count": 35,
   "metadata": {},
   "outputs": [],
   "source": [
    "y_train=upsampled.Default\n",
    "X_train=upsampled.drop('Default',axis=1)"
   ]
  },
  {
   "cell_type": "code",
   "execution_count": 36,
   "metadata": {},
   "outputs": [],
   "source": [
    "# Feature Scaling\n",
    "from sklearn.preprocessing import StandardScaler\n",
    "sc = StandardScaler()\n",
    "X_train = sc.fit_transform(X_train)\n",
    "X_test = sc.transform(X_test)"
   ]
  },
  {
   "cell_type": "code",
   "execution_count": 37,
   "metadata": {},
   "outputs": [],
   "source": [
    "#logistic regression\n",
    "from sklearn.linear_model import LogisticRegression"
   ]
  },
  {
   "cell_type": "code",
   "execution_count": 38,
   "metadata": {},
   "outputs": [],
   "source": [
    "upsampled = LogisticRegression(solver='liblinear').fit(X_train, y_train)"
   ]
  },
  {
   "cell_type": "code",
   "execution_count": 39,
   "metadata": {},
   "outputs": [],
   "source": [
    "upsampled_pred=upsampled.predict(X_test)"
   ]
  },
  {
   "cell_type": "code",
   "execution_count": 40,
   "metadata": {},
   "outputs": [
    {
     "data": {
      "text/plain": [
       "array([[70530, 27088],\n",
       "       [  781,  1599]], dtype=int64)"
      ]
     },
     "execution_count": 40,
     "metadata": {},
     "output_type": "execute_result"
    }
   ],
   "source": [
    "from sklearn.metrics import confusion_matrix\n",
    "confusion_matrix(y_test,upsampled_pred)"
   ]
  },
  {
   "cell_type": "code",
   "execution_count": 41,
   "metadata": {},
   "outputs": [
    {
     "data": {
      "text/plain": [
       "0.7213044260885217"
      ]
     },
     "execution_count": 41,
     "metadata": {},
     "output_type": "execute_result"
    }
   ],
   "source": [
    "accuracy_score(y_test,upsampled_pred)"
   ]
  },
  {
   "cell_type": "code",
   "execution_count": 42,
   "metadata": {},
   "outputs": [],
   "source": [
    "#random forest\n",
    "from sklearn.ensemble import RandomForestClassifier"
   ]
  },
  {
   "cell_type": "code",
   "execution_count": 43,
   "metadata": {},
   "outputs": [],
   "source": [
    "rf=RandomForestClassifier()"
   ]
  },
  {
   "cell_type": "code",
   "execution_count": 44,
   "metadata": {},
   "outputs": [
    {
     "name": "stderr",
     "output_type": "stream",
     "text": [
      "C:\\Users\\user\\AppData\\Local\\Continuum\\anaconda3\\lib\\site-packages\\sklearn\\ensemble\\forest.py:245: FutureWarning: The default value of n_estimators will change from 10 in version 0.20 to 100 in 0.22.\n",
      "  \"10 in version 0.20 to 100 in 0.22.\", FutureWarning)\n"
     ]
    },
    {
     "data": {
      "text/plain": [
       "RandomForestClassifier(bootstrap=True, class_weight=None, criterion='gini',\n",
       "                       max_depth=None, max_features='auto', max_leaf_nodes=None,\n",
       "                       min_impurity_decrease=0.0, min_impurity_split=None,\n",
       "                       min_samples_leaf=1, min_samples_split=2,\n",
       "                       min_weight_fraction_leaf=0.0, n_estimators=10,\n",
       "                       n_jobs=None, oob_score=False, random_state=None,\n",
       "                       verbose=0, warm_start=False)"
      ]
     },
     "execution_count": 44,
     "metadata": {},
     "output_type": "execute_result"
    }
   ],
   "source": [
    "rf.fit(X_train,y_train)"
   ]
  },
  {
   "cell_type": "code",
   "execution_count": 45,
   "metadata": {},
   "outputs": [],
   "source": [
    "y_pred_rf=rf.predict(X_test)"
   ]
  },
  {
   "cell_type": "code",
   "execution_count": 46,
   "metadata": {},
   "outputs": [
    {
     "data": {
      "text/plain": [
       "array([[97425,  2306],\n",
       "       [  193,    74]], dtype=int64)"
      ]
     },
     "execution_count": 46,
     "metadata": {},
     "output_type": "execute_result"
    }
   ],
   "source": [
    "confusion_matrix(y_pred_rf,y_test)"
   ]
  },
  {
   "cell_type": "code",
   "execution_count": 47,
   "metadata": {},
   "outputs": [
    {
     "data": {
      "text/plain": [
       "0.9750095001900038"
      ]
     },
     "execution_count": 47,
     "metadata": {},
     "output_type": "execute_result"
    }
   ],
   "source": [
    "accuracy_score(y_test,y_pred_rf)"
   ]
  },
  {
   "cell_type": "code",
   "execution_count": 48,
   "metadata": {},
   "outputs": [
    {
     "data": {
      "text/plain": [
       "DecisionTreeClassifier(class_weight=None, criterion='gini', max_depth=None,\n",
       "                       max_features=None, max_leaf_nodes=None,\n",
       "                       min_impurity_decrease=0.0, min_impurity_split=None,\n",
       "                       min_samples_leaf=1, min_samples_split=2,\n",
       "                       min_weight_fraction_leaf=0.0, presort=False,\n",
       "                       random_state=None, splitter='best')"
      ]
     },
     "execution_count": 48,
     "metadata": {},
     "output_type": "execute_result"
    }
   ],
   "source": [
    "#Decision tree classifier\n",
    "DecisionTreeModel=DecisionTreeClassifier()\n",
    "DecisionTreeModel.fit(X_train,y_train)"
   ]
  },
  {
   "cell_type": "code",
   "execution_count": 49,
   "metadata": {},
   "outputs": [],
   "source": [
    "DecisionTree_ypred=DecisionTreeModel.predict(X_test)"
   ]
  },
  {
   "cell_type": "code",
   "execution_count": 50,
   "metadata": {},
   "outputs": [
    {
     "data": {
      "text/plain": [
       "array([[95580,  2180],\n",
       "       [ 2038,   200]], dtype=int64)"
      ]
     },
     "execution_count": 50,
     "metadata": {},
     "output_type": "execute_result"
    }
   ],
   "source": [
    "confusion_matrix(DecisionTree_ypred,y_test)"
   ]
  },
  {
   "cell_type": "code",
   "execution_count": 51,
   "metadata": {},
   "outputs": [
    {
     "data": {
      "text/plain": [
       "0.9578191563831276"
      ]
     },
     "execution_count": 51,
     "metadata": {},
     "output_type": "execute_result"
    }
   ],
   "source": [
    "accuracy_score(DecisionTree_ypred,y_test)"
   ]
  },
  {
   "cell_type": "code",
   "execution_count": 52,
   "metadata": {},
   "outputs": [],
   "source": [
    "#xgboost classifier\n",
    "xgb_model=XGBClassifier()"
   ]
  },
  {
   "cell_type": "code",
   "execution_count": 53,
   "metadata": {},
   "outputs": [
    {
     "data": {
      "text/plain": [
       "XGBClassifier(base_score=0.5, booster='gbtree', colsample_bylevel=1,\n",
       "              colsample_bynode=1, colsample_bytree=1, gamma=0,\n",
       "              learning_rate=0.1, max_delta_step=0, max_depth=3,\n",
       "              min_child_weight=1, missing=None, n_estimators=100, n_jobs=1,\n",
       "              nthread=None, objective='binary:logistic', random_state=0,\n",
       "              reg_alpha=0, reg_lambda=1, scale_pos_weight=1, seed=None,\n",
       "              silent=None, subsample=1, verbosity=1)"
      ]
     },
     "execution_count": 53,
     "metadata": {},
     "output_type": "execute_result"
    }
   ],
   "source": [
    "xgb_model.fit(X_train,y_train)"
   ]
  },
  {
   "cell_type": "code",
   "execution_count": 54,
   "metadata": {},
   "outputs": [],
   "source": [
    "xgb_pred=xgb_model.predict(X_test)"
   ]
  },
  {
   "cell_type": "code",
   "execution_count": 55,
   "metadata": {},
   "outputs": [
    {
     "data": {
      "text/plain": [
       "array([[74088,   713],\n",
       "       [23530,  1667]], dtype=int64)"
      ]
     },
     "execution_count": 55,
     "metadata": {},
     "output_type": "execute_result"
    }
   ],
   "source": [
    "confusion_matrix(xgb_pred,y_test)"
   ]
  },
  {
   "cell_type": "code",
   "execution_count": 56,
   "metadata": {},
   "outputs": [
    {
     "data": {
      "text/plain": [
       "0.757565151303026"
      ]
     },
     "execution_count": 56,
     "metadata": {},
     "output_type": "execute_result"
    }
   ],
   "source": [
    "accuracy_score(xgb_pred,y_test)"
   ]
  },
  {
   "cell_type": "code",
   "execution_count": 57,
   "metadata": {},
   "outputs": [],
   "source": [
    "pickle.dump(rf, open('RandomForest_model.pkl','wb'))"
   ]
  },
  {
   "cell_type": "code",
   "execution_count": 62,
   "metadata": {},
   "outputs": [
    {
     "name": "stdout",
     "output_type": "stream",
     "text": [
      "[0]\n"
     ]
    }
   ],
   "source": [
    "model = pickle.load(open('RandomForest_model.pkl','rb'))\n",
    "print(model.predict([[1.8,54,356,38,89,39,8,43]]))"
   ]
  },
  {
   "cell_type": "code",
   "execution_count": 63,
   "metadata": {},
   "outputs": [],
   "source": [
    "pickle.dump(DecisionTreeModel, open('DecisionTree_model.pkl','wb'))"
   ]
  },
  {
   "cell_type": "code",
   "execution_count": 65,
   "metadata": {},
   "outputs": [
    {
     "name": "stdout",
     "output_type": "stream",
     "text": [
      "[0]\n"
     ]
    }
   ],
   "source": [
    "model = pickle.load(open('DecisionTree_model.pkl','rb'))\n",
    "print(model.predict([[1.8,54,356,38,89,38,39,839]]))"
   ]
  },
  {
   "cell_type": "code",
   "execution_count": 66,
   "metadata": {},
   "outputs": [],
   "source": [
    "pickle.dump(xgb_model, open('xgb_model.pkl','wb'))"
   ]
  },
  {
   "cell_type": "code",
   "execution_count": 67,
   "metadata": {},
   "outputs": [
    {
     "name": "stdout",
     "output_type": "stream",
     "text": [
      "[0]\n"
     ]
    }
   ],
   "source": [
    "model = pickle.load(open('xgb_model.pkl','rb'))\n",
    "print(model.predict([[1.8,54,356,38,89,38,39,839]]))"
   ]
  },
  {
   "cell_type": "code",
   "execution_count": null,
   "metadata": {},
   "outputs": [],
   "source": []
  }
 ],
 "metadata": {
  "kernelspec": {
   "display_name": "Python 3",
   "language": "python",
   "name": "python3"
  },
  "language_info": {
   "codemirror_mode": {
    "name": "ipython",
    "version": 3
   },
   "file_extension": ".py",
   "mimetype": "text/x-python",
   "name": "python",
   "nbconvert_exporter": "python",
   "pygments_lexer": "ipython3",
   "version": "3.7.4"
  }
 },
 "nbformat": 4,
 "nbformat_minor": 2
}
